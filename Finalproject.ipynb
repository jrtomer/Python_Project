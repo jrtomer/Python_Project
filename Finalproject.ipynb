{
 "cells": [
  {
   "cell_type": "code",
   "execution_count": null,
   "id": "4f578474-da62-4a34-91e6-7a01adb848ca",
   "metadata": {},
   "outputs": [],
   "source": [
    "import matplotlib\n",
    "from matplotlib import pyplot as plt\n",
    "import pandas as pd\n",
    "import csv\n",
    "import numpy as np\n",
    "\n",
    "col_list=['Years', 'Total_Snowfall']\n",
    "data = pd.read_csv(\"FinalProjectData.csv\", usecols = col_list)\n",
    "\n",
    "y = data['Total_Snowfall']\n",
    "x = data['Years']\n",
    "\n",
    "\n",
    "plt.plot(x, y)\n",
    "plt.ylabel('Snowfall (inches)')\n",
    "plt.xlabel('Year')\n",
    "plt.title('Yearly Snowfall at Mount Baker Ski Area')\n",
    "plt.show()\n",
    "\n",
    "#Constructing a scatter plot using the mean snowfall mass every decade.\n",
    "\n",
    "\n",
    "\n",
    "\n",
    "\n",
    "\n",
    "\n",
    "\n",
    "        "
   ]
  },
  {
   "cell_type": "code",
   "execution_count": 65,
   "id": "2200415f-7e27-4e94-b1e6-d3ffebb552a6",
   "metadata": {},
   "outputs": [
    {
     "data": {
      "text/plain": [
       "52"
      ]
     },
     "execution_count": 65,
     "metadata": {},
     "output_type": "execute_result"
    }
   ],
   "source": [
    "window_size = int(len(x)/2)\n",
    "\n",
    "i = 0\n",
    "\n",
    "moving_averages = []\n",
    "\n",
    "while i < (len(y) - window_size + 1):\n",
    "\n",
    "    window = y[i : i + window_size]\n",
    "    window_average = round(sum(window) / window_size, 2)\n",
    "    moving_averages.append(window_average)\n",
    "\n",
    "    i += 1\n",
    "\n",
    "plt.plot(moving_averages)\n",
    "plt.xlabel('Moving Average (Years)')\n",
    "plt.ylabel('Snowfall (inches)')\n",
    "plt.show()\n",
    "\n",
    "decadal_mean = [0] * 5\n",
    "\n",
    "s = 9\n",
    "i = 0\n",
    "j = 0\n",
    "while s < 50:\n",
    "    decadal_mean[j] = np.mean(y[i:s])\n",
    "    i =+ 10\n",
    "    s =+ 10\n",
    "    j =+ 1\n",
    "print(str(decadal_mean))"
   ]
  },
  {
   "cell_type": "code",
   "execution_count": null,
   "id": "732e63db-e3d7-42a6-8363-281421d37f13",
   "metadata": {},
   "outputs": [],
   "source": []
  }
 ],
 "metadata": {
  "kernelspec": {
   "display_name": "Python [conda env:pangeo] *",
   "language": "python",
   "name": "conda-env-pangeo-py"
  },
  "language_info": {
   "codemirror_mode": {
    "name": "ipython",
    "version": 3
   },
   "file_extension": ".py",
   "mimetype": "text/x-python",
   "name": "python",
   "nbconvert_exporter": "python",
   "pygments_lexer": "ipython3",
   "version": "3.9.12"
  }
 },
 "nbformat": 4,
 "nbformat_minor": 5
}
